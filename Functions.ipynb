{
 "cells": [
  {
   "cell_type": "markdown",
   "metadata": {},
   "source": [
    "# def Statements"
   ]
  },
  {
   "cell_type": "code",
   "execution_count": 3,
   "metadata": {},
   "outputs": [],
   "source": [
    "def name_of_the_fun (arg1,arg2):\n",
    "    '''\n",
    "    This is the example documentation of this particular function \n",
    "    '''\n",
    "    #do our stuff here\n",
    "    print(\"Hi People \")\n",
    "    print('how are you all')\n",
    "    #Retunr the desired result\n",
    "    return arg1 +arg2"
   ]
  },
  {
   "cell_type": "code",
   "execution_count": 4,
   "metadata": {},
   "outputs": [
    {
     "name": "stdout",
     "output_type": "stream",
     "text": [
      "Hi People \n",
      "how are you all\n"
     ]
    },
    {
     "data": {
      "text/plain": [
       "3"
      ]
     },
     "execution_count": 4,
     "metadata": {},
     "output_type": "execute_result"
    }
   ],
   "source": [
    "name_of_the_fun(1,2)"
   ]
  },
  {
   "cell_type": "code",
   "execution_count": 5,
   "metadata": {},
   "outputs": [
    {
     "name": "stdout",
     "output_type": "stream",
     "text": [
      "Help on function name_of_the_fun in module __main__:\n",
      "\n",
      "name_of_the_fun(arg1, arg2)\n",
      "    This is the example documentation of this particular function\n",
      "\n"
     ]
    }
   ],
   "source": [
    "help(name_of_the_fun)"
   ]
  },
  {
   "cell_type": "markdown",
   "metadata": {},
   "source": [
    "# Example 1 "
   ]
  },
  {
   "cell_type": "markdown",
   "metadata": {},
   "source": [
    "Function to greet people in python "
   ]
  },
  {
   "cell_type": "code",
   "execution_count": 9,
   "metadata": {},
   "outputs": [],
   "source": [
    "def greeting(name):\n",
    "    print('hello %s' %(name))"
   ]
  },
  {
   "cell_type": "code",
   "execution_count": 10,
   "metadata": {},
   "outputs": [
    {
     "name": "stdout",
     "output_type": "stream",
     "text": [
      "hello Hari sir\n"
     ]
    }
   ],
   "source": [
    "greeting(\"Hari sir\")"
   ]
  },
  {
   "cell_type": "code",
   "execution_count": 11,
   "metadata": {},
   "outputs": [],
   "source": [
    "#Addition function \n",
    "\n",
    "def add_num(num1,num2):\n",
    "    return num1+num2\n",
    "    "
   ]
  },
  {
   "cell_type": "code",
   "execution_count": 12,
   "metadata": {},
   "outputs": [
    {
     "data": {
      "text/plain": [
       "9"
      ]
     },
     "execution_count": 12,
     "metadata": {},
     "output_type": "execute_result"
    }
   ],
   "source": [
    "add_num(4,5)"
   ]
  },
  {
   "cell_type": "code",
   "execution_count": 13,
   "metadata": {},
   "outputs": [
    {
     "name": "stdout",
     "output_type": "stream",
     "text": [
      "9\n"
     ]
    }
   ],
   "source": [
    "print(add_num(4,5))"
   ]
  },
  {
   "cell_type": "code",
   "execution_count": 14,
   "metadata": {},
   "outputs": [
    {
     "name": "stdout",
     "output_type": "stream",
     "text": [
      "printsomething\n"
     ]
    }
   ],
   "source": [
    "print(add_num('print','something'))"
   ]
  },
  {
   "cell_type": "markdown",
   "metadata": {},
   "source": [
    "# Example for testing a number is prime or not"
   ]
  },
  {
   "cell_type": "code",
   "execution_count": 21,
   "metadata": {},
   "outputs": [],
   "source": [
    "def is_prime(num):\n",
    "    '''\n",
    "    Method to check the number is prime or not\n",
    "    '''\n",
    "    \n",
    "    for n in range(2,num):\n",
    "        if num % n == 0:\n",
    "            print('This number is not Prime ',num)\n",
    "            break;\n",
    "    else: \n",
    "        print(num,' is a prime number !')"
   ]
  },
  {
   "cell_type": "code",
   "execution_count": 22,
   "metadata": {},
   "outputs": [
    {
     "name": "stdout",
     "output_type": "stream",
     "text": [
      "97  is a prime number !\n"
     ]
    }
   ],
   "source": [
    "is_prime(97)"
   ]
  },
  {
   "cell_type": "markdown",
   "metadata": {},
   "source": [
    "# *args"
   ]
  },
  {
   "cell_type": "code",
   "execution_count": 8,
   "metadata": {},
   "outputs": [
    {
     "data": {
      "text/plain": [
       "30"
      ]
     },
     "execution_count": 8,
     "metadata": {},
     "output_type": "execute_result"
    }
   ],
   "source": [
    "def myfun(a,b):\n",
    "    return sum((a,b))\n",
    "\n",
    "myfun(10,20)\n",
    "\n",
    "# problem with this is we cant send more than defined number of parameters to the function "
   ]
  },
  {
   "cell_type": "code",
   "execution_count": 10,
   "metadata": {},
   "outputs": [
    {
     "data": {
      "text/plain": [
       "150"
      ]
     },
     "execution_count": 10,
     "metadata": {},
     "output_type": "execute_result"
    }
   ],
   "source": [
    "def myfun(*abcd):\n",
    "    return sum(abcd)\n",
    "\n",
    "myfun(10,20,30,40,50)"
   ]
  },
  {
   "cell_type": "markdown",
   "metadata": {},
   "source": [
    "# **kwargs"
   ]
  },
  {
   "cell_type": "code",
   "execution_count": 17,
   "metadata": {},
   "outputs": [
    {
     "name": "stdout",
     "output_type": "stream",
     "text": [
      "My fav. fruit is Apple\n"
     ]
    }
   ],
   "source": [
    "def my_new_fun(**data):\n",
    "    if'fruit' in data:\n",
    "        print(f\"My fav. fruit is {data['fruit']}\")\n",
    "              \n",
    "    else:\n",
    "        print(\"i dont like any other fruit\")\n",
    "\n",
    "my_new_fun(fruit='Apple',veggie ='Potato')"
   ]
  },
  {
   "cell_type": "markdown",
   "metadata": {},
   "source": [
    "# Write a program using key word args. which can take name of the student, age and marks and print them all in a formatted Report card in O/P "
   ]
  },
  {
   "cell_type": "code",
   "execution_count": 18,
   "metadata": {},
   "outputs": [],
   "source": [
    "# given as assignment "
   ]
  },
  {
   "cell_type": "code",
   "execution_count": null,
   "metadata": {},
   "outputs": [],
   "source": []
  }
 ],
 "metadata": {
  "kernelspec": {
   "display_name": "Python 3",
   "language": "python",
   "name": "python3"
  },
  "language_info": {
   "codemirror_mode": {
    "name": "ipython",
    "version": 3
   },
   "file_extension": ".py",
   "mimetype": "text/x-python",
   "name": "python",
   "nbconvert_exporter": "python",
   "pygments_lexer": "ipython3",
   "version": "3.7.1"
  }
 },
 "nbformat": 4,
 "nbformat_minor": 2
}
